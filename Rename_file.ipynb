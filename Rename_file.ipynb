{
 "cells": [
  {
   "cell_type": "code",
   "execution_count": 1,
   "metadata": {},
   "outputs": [],
   "source": [
    "import os\n",
    "import random\n",
    "import re\n",
    "import math"
   ]
  },
  {
   "cell_type": "code",
   "execution_count": 2,
   "metadata": {},
   "outputs": [],
   "source": [
    "def rename(fileDir, prefix, zCount, cont=False):\n",
    "    \n",
    "    files = os.listdir(fileDir)\n",
    "    \n",
    "    templateF = re.compile(f'{prefix}_{\"[0-9]{\"+str(zCount)+\"}\"}')\n",
    "    templateC = re.compile(f'[0-9]{\"{\"+str(zCount)+\"}\"}')\n",
    "    \n",
    "    fileName = []\n",
    "    contC = 0\n",
    "    if(cont):\n",
    "        for f in files:\n",
    "            if(templateF.match(f) is None):\n",
    "                fileName.append(f)\n",
    "            else:\n",
    "                c = templateC.search(f)\n",
    "                if(int(c) > contC):\n",
    "                    contC = int(c)\n",
    "        \n",
    "    else:\n",
    "        fileName = files\n",
    "    \n",
    "    for i in range(len(fileName)):\n",
    "        os.rename(os.path.join(fileDir, fileName[i]), os.path.join(fileDir, f\"{prefix}_{str.zfill((str(contC+i+1)+'.png'),zCount)}\"))"
   ]
  },
  {
   "cell_type": "code",
   "execution_count": 4,
   "metadata": {},
   "outputs": [],
   "source": [
    "rename('bad/','BB',6,cont=False)"
   ]
  },
  {
   "cell_type": "code",
   "execution_count": null,
   "metadata": {},
   "outputs": [],
   "source": []
  }
 ],
 "metadata": {
  "kernelspec": {
   "display_name": "Python 3",
   "language": "python",
   "name": "python3"
  },
  "language_info": {
   "codemirror_mode": {
    "name": "ipython",
    "version": 3
   },
   "file_extension": ".py",
   "mimetype": "text/x-python",
   "name": "python",
   "nbconvert_exporter": "python",
   "pygments_lexer": "ipython3",
   "version": "3.8.5"
  }
 },
 "nbformat": 4,
 "nbformat_minor": 4
}
